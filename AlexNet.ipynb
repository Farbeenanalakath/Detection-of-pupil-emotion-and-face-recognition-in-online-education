{
  "nbformat": 4,
  "nbformat_minor": 0,
  "metadata": {
    "colab": {
      "name": "AlexNet.ipynb",
      "provenance": [],
      "authorship_tag": "ABX9TyMzmLoygJaJFlzrFTOo0f/P",
      "include_colab_link": true
    },
    "kernelspec": {
      "name": "python3",
      "display_name": "Python 3"
    },
    "language_info": {
      "name": "python"
    },
    "accelerator": "GPU"
  },
  "cells": [
    {
      "cell_type": "markdown",
      "metadata": {
        "id": "view-in-github",
        "colab_type": "text"
      },
      "source": [
        "<a href=\"https://colab.research.google.com/github/Farbeenanalakath/Detection-of-pupil-emotion-and-face-recognition-in-online-education/blob/main/AlexNet.ipynb\" target=\"_parent\"><img src=\"https://colab.research.google.com/assets/colab-badge.svg\" alt=\"Open In Colab\"/></a>"
      ]
    },
    {
      "cell_type": "code",
      "metadata": {
        "id": "80mOa_S4e32m"
      },
      "source": [
        ""
      ],
      "execution_count": null,
      "outputs": []
    },
    {
      "cell_type": "code",
      "metadata": {
        "id": "v74jbyZWIFmJ"
      },
      "source": [
        "import tensorflow as tf\n",
        "from tensorflow.keras.datasets import cifar10\n",
        "import matplotlib.pyplot as plt\n",
        "%matplotlib inline\n",
        "import numpy as np\n",
        "from tensorflow.keras.layers import Dense,Flatten,Conv2D,MaxPooling2D,Dropout,BatchNormalization\n",
        "from tensorflow.keras.optimizers import Adam,SGD\n",
        "from tensorflow.keras.losses import SparseCategoricalCrossentropy\n",
        "from tensorflow.keras import Sequential\n"
      ],
      "execution_count": null,
      "outputs": []
    },
    {
      "cell_type": "code",
      "metadata": {
        "id": "PVmencH0I6RC"
      },
      "source": [
        "(xtrain,ytrain),(xtest,ytest)=cifar10.load_data()"
      ],
      "execution_count": null,
      "outputs": []
    },
    {
      "cell_type": "code",
      "metadata": {
        "id": "lk5OxedLJSa8"
      },
      "source": [
        "classes=['airplane','automobile\t','bird','cat','deer','dog','frog\t','horse','ship\t','truck']"
      ],
      "execution_count": null,
      "outputs": []
    },
    {
      "cell_type": "code",
      "metadata": {
        "colab": {
          "base_uri": "https://localhost:8080/",
          "height": 123
        },
        "id": "k8Ak1UXALUCO",
        "outputId": "34005a5e-1a41-4fd1-e9a9-6376aab9f096"
      },
      "source": [
        "plt.figure(figsize=(10,1))\n",
        "plt.imshow(xtrain[8])\n",
        "ytrain[8]\n",
        "classes[8]"
      ],
      "execution_count": null,
      "outputs": [
        {
          "output_type": "execute_result",
          "data": {
            "application/vnd.google.colaboratory.intrinsic+json": {
              "type": "string"
            },
            "text/plain": [
              "'ship\\t'"
            ]
          },
          "metadata": {},
          "execution_count": 15
        },
        {
          "output_type": "display_data",
          "data": {
            "image/png": "[encoded data removed]",
            "text/plain": [
              "<Figure size 720x72 with 1 Axes>"
            ]
          },
          "metadata": {
            "needs_background": "light"
          }
        }
      ]
    },
    {
      "cell_type": "code",
      "metadata": {
        "id": "4ymvi0UyLui8"
      },
      "source": [
        "def plot_image(index):\n",
        "  plt.figure(figsize=(10,1))\n",
        "  plt.imshow(xtrain[index])\n",
        "  ind=int(ytrain[index])\n",
        "  plt.title(classes[ind])\n",
        "  plt.axis('off')\n"
      ],
      "execution_count": null,
      "outputs": []
    },
    {
      "cell_type": "code",
      "metadata": {
        "colab": {
          "base_uri": "https://localhost:8080/",
          "height": 101
        },
        "id": "yvozpReENKre",
        "outputId": "f96709ad-d6a4-41fc-aa28-54d5e864f737"
      },
      "source": [
        "plot_image(1001)"
      ],
      "execution_count": null,
      "outputs": [
        {
          "output_type": "display_data",
          "data": {
            "image/png": "[encoded data removed]",
            "text/plain": [
              "<Figure size 720x72 with 1 Axes>"
            ]
          },
          "metadata": {
            "needs_background": "light"
          }
        }
      ]
    },
    {
      "cell_type": "code",
      "metadata": {
        "id": "t5IhhBgrNRux"
      },
      "source": [
        "xtrain=tf.image.resize(xtrain,(64,64))\n",
        "xtest=tf.image.resize(xtest,(64,64))\n"
      ],
      "execution_count": null,
      "outputs": []
    },
    {
      "cell_type": "markdown",
      "metadata": {
        "id": "7I4hxkpmOe5B"
      },
      "source": [
        "xtrain.shape"
      ]
    },
    {
      "cell_type": "code",
      "metadata": {
        "id": "CQzHV9JSOmp1"
      },
      "source": [
        "#AlexNet"
      ],
      "execution_count": null,
      "outputs": []
    },
    {
      "cell_type": "code",
      "metadata": {
        "id": "lAU00RGuOw0g"
      },
      "source": [
        "model=Sequential()\n",
        "#covolutionlayer 1\n",
        "model.add(Conv2D(filters=256,kernel_size=(5,5),strides=(4,4),activation='relu',input_shape=(64,64,3)))\n",
        "model.add(BatchNormalization())\n",
        "model.add(MaxPooling2D(pool_size=(2,2)))\n",
        "\n",
        "#conv2\n",
        "model.add(Conv2D(filters=256,kernel_size=(5,5),strides=(1,1),activation='relu',padding=\"same\"))\n",
        "model.add(BatchNormalization())\n",
        "model.add(MaxPooling2D(pool_size=(3,3)))\n",
        "\n",
        "#conv3\n",
        "model.add(Conv2D(filters=128,kernel_size=(3,3),strides=(1,1),activation='relu',padding=\"same\"))\n",
        "model.add(BatchNormalization())\n",
        "\n",
        "\n",
        "#conv4\n",
        "model.add(Conv2D(filters=128,kernel_size=(1,1),strides=(1,1),activation='relu',padding='same'))\n",
        "model.add(BatchNormalization())\n",
        "\n",
        "\n",
        "#conv5\n",
        "model.add(Conv2D(filters=256,kernel_size=(1,1),strides=(1,1),activation='relu',padding='same'))\n",
        "model.add(BatchNormalization())\n",
        "model.add(MaxPooling2D(pool_size=(2,2)))\n",
        "\n",
        "#flatten\n",
        "model.add(Flatten())\n",
        "\n",
        "#Fcl1\n",
        "model.add(Dense(1024,activation='relu'))\n",
        "model.add(Dropout(0.5))\n",
        "\n",
        "#Fcl2\n",
        "model.add(Dense(1024,activation='softmax'))\n"
      ],
      "execution_count": null,
      "outputs": []
    },
    {
      "cell_type": "code",
      "metadata": {
        "id": "QMmItVGCe9-B"
      },
      "source": [
        "model.compile(loss='SparseCategoricalCrossentropy',optimizer=SGD(),metrics=['accuracy'])"
      ],
      "execution_count": null,
      "outputs": []
    },
    {
      "cell_type": "code",
      "metadata": {
        "colab": {
          "base_uri": "https://localhost:8080/"
        },
        "id": "gzqtaEoTf11v",
        "outputId": "8aae20cb-85b4-4884-bc83-ce99e33ba7e9"
      },
      "source": [
        "model.summary()"
      ],
      "execution_count": null,
      "outputs": [
        {
          "output_type": "stream",
          "name": "stdout",
          "text": [
            "Model: \"sequential_1\"\n",
            "_________________________________________________________________\n",
            " Layer (type)                Output Shape              Param #   \n",
            "=================================================================\n",
            " conv2d_5 (Conv2D)           (None, 15, 15, 256)       19456     \n",
            "                                                                 \n",
            " batch_normalization_5 (Batc  (None, 15, 15, 256)      1024      \n",
            " hNormalization)                                                 \n",
            "                                                                 \n",
            " max_pooling2d_3 (MaxPooling  (None, 7, 7, 256)        0         \n",
            " 2D)                                                             \n",
            "                                                                 \n",
            " conv2d_6 (Conv2D)           (None, 7, 7, 256)         1638656   \n",
            "                                                                 \n",
            " batch_normalization_6 (Batc  (None, 7, 7, 256)        1024      \n",
            " hNormalization)                                                 \n",
            "                                                                 \n",
            " max_pooling2d_4 (MaxPooling  (None, 2, 2, 256)        0         \n",
            " 2D)                                                             \n",
            "                                                                 \n",
            " conv2d_7 (Conv2D)           (None, 2, 2, 128)         295040    \n",
            "                                                                 \n",
            " batch_normalization_7 (Batc  (None, 2, 2, 128)        512       \n",
            " hNormalization)                                                 \n",
            "                                                                 \n",
            " conv2d_8 (Conv2D)           (None, 2, 2, 128)         16512     \n",
            "                                                                 \n",
            " batch_normalization_8 (Batc  (None, 2, 2, 128)        512       \n",
            " hNormalization)                                                 \n",
            "                                                                 \n",
            " conv2d_9 (Conv2D)           (None, 2, 2, 256)         33024     \n",
            "                                                                 \n",
            " batch_normalization_9 (Batc  (None, 2, 2, 256)        1024      \n",
            " hNormalization)                                                 \n",
            "                                                                 \n",
            " max_pooling2d_5 (MaxPooling  (None, 1, 1, 256)        0         \n",
            " 2D)                                                             \n",
            "                                                                 \n",
            " flatten_1 (Flatten)         (None, 256)               0         \n",
            "                                                                 \n",
            " dense_2 (Dense)             (None, 1024)              263168    \n",
            "                                                                 \n",
            " dropout_1 (Dropout)         (None, 1024)              0         \n",
            "                                                                 \n",
            " dense_3 (Dense)             (None, 1024)              1049600   \n",
            "                                                                 \n",
            "=================================================================\n",
            "Total params: 3,319,552\n",
            "Trainable params: 3,317,504\n",
            "Non-trainable params: 2,048\n",
            "_________________________________________________________________\n"
          ]
        }
      ]
    },
    {
      "cell_type": "code",
      "metadata": {
        "colab": {
          "base_uri": "https://localhost:8080/"
        },
        "id": "sD2u2JcGf6kG",
        "outputId": "38499690-e45d-4aa6-94d6-b4b9a62f4376"
      },
      "source": [
        "trained_history=model.fit(xtrain,ytrain,batch_size=10,epochs=50,validation_data=(xtest,ytest))"
      ],
      "execution_count": null,
      "outputs": [
        {
          "output_type": "stream",
          "name": "stdout",
          "text": [
            "Epoch 1/50\n",
            "5000/5000 [==============================] - 89s 16ms/step - loss: 1.7725 - accuracy: 0.3714 - val_loss: 1.8915 - val_accuracy: 0.3856\n",
            "Epoch 2/50\n",
            "5000/5000 [==============================] - 84s 17ms/step - loss: 1.3829 - accuracy: 0.5125 - val_loss: 1.2824 - val_accuracy: 0.5607\n",
            "Epoch 3/50\n",
            "5000/5000 [==============================] - 79s 16ms/step - loss: 1.2290 - accuracy: 0.5701 - val_loss: 1.1746 - val_accuracy: 0.5830\n",
            "Epoch 4/50\n",
            "5000/5000 [==============================] - 79s 16ms/step - loss: 1.1121 - accuracy: 0.6152 - val_loss: 1.0522 - val_accuracy: 0.6370\n",
            "Epoch 5/50\n",
            "5000/5000 [==============================] - 84s 17ms/step - loss: 1.0251 - accuracy: 0.6434 - val_loss: 0.9948 - val_accuracy: 0.6571\n",
            "Epoch 6/50\n",
            "5000/5000 [==============================] - 79s 16ms/step - loss: 0.9509 - accuracy: 0.6709 - val_loss: 1.0154 - val_accuracy: 0.6568\n",
            "Epoch 7/50\n",
            "5000/5000 [==============================] - 84s 17ms/step - loss: 0.8901 - accuracy: 0.6921 - val_loss: 1.0297 - val_accuracy: 0.6574\n",
            "Epoch 8/50\n",
            "5000/5000 [==============================] - 79s 16ms/step - loss: 0.8312 - accuracy: 0.7132 - val_loss: 0.9704 - val_accuracy: 0.6736\n",
            "Epoch 9/50\n",
            "5000/5000 [==============================] - 79s 16ms/step - loss: 0.7869 - accuracy: 0.7294 - val_loss: 1.0460 - val_accuracy: 0.6658\n",
            "Epoch 10/50\n",
            "5000/5000 [==============================] - 79s 16ms/step - loss: 0.7313 - accuracy: 0.7447 - val_loss: 1.0033 - val_accuracy: 0.6733\n",
            "Epoch 11/50\n",
            "5000/5000 [==============================] - 79s 16ms/step - loss: 0.6806 - accuracy: 0.7641 - val_loss: 1.0593 - val_accuracy: 0.6717\n",
            "Epoch 12/50\n",
            "5000/5000 [==============================] - 83s 17ms/step - loss: 0.6349 - accuracy: 0.7800 - val_loss: 1.1263 - val_accuracy: 0.6514\n",
            "Epoch 13/50\n",
            "5000/5000 [==============================] - 83s 17ms/step - loss: 0.5928 - accuracy: 0.7946 - val_loss: 0.9584 - val_accuracy: 0.6959\n",
            "Epoch 14/50\n",
            "5000/5000 [==============================] - 84s 17ms/step - loss: 0.5602 - accuracy: 0.8081 - val_loss: 0.9724 - val_accuracy: 0.6975\n",
            "Epoch 15/50\n",
            "5000/5000 [==============================] - 84s 17ms/step - loss: 0.5161 - accuracy: 0.8215 - val_loss: 1.0762 - val_accuracy: 0.6816\n",
            "Epoch 16/50\n",
            "5000/5000 [==============================] - 79s 16ms/step - loss: 0.4880 - accuracy: 0.8324 - val_loss: 1.0759 - val_accuracy: 0.6745\n",
            "Epoch 17/50\n",
            "5000/5000 [==============================] - 84s 17ms/step - loss: 0.4519 - accuracy: 0.8432 - val_loss: 1.2036 - val_accuracy: 0.6717\n",
            "Epoch 18/50\n",
            "5000/5000 [==============================] - 79s 16ms/step - loss: 0.4203 - accuracy: 0.8552 - val_loss: 1.0515 - val_accuracy: 0.6947\n",
            "Epoch 19/50\n",
            "5000/5000 [==============================] - 84s 17ms/step - loss: 0.3919 - accuracy: 0.8646 - val_loss: 1.0795 - val_accuracy: 0.6947\n",
            "Epoch 20/50\n",
            "5000/5000 [==============================] - 79s 16ms/step - loss: 0.3722 - accuracy: 0.8722 - val_loss: 1.1248 - val_accuracy: 0.6959\n",
            "Epoch 21/50\n",
            "5000/5000 [==============================] - 84s 17ms/step - loss: 0.3437 - accuracy: 0.8794 - val_loss: 1.1644 - val_accuracy: 0.6957\n",
            "Epoch 22/50\n",
            "5000/5000 [==============================] - 79s 16ms/step - loss: 0.3226 - accuracy: 0.8885 - val_loss: 1.1989 - val_accuracy: 0.6874\n",
            "Epoch 23/50\n",
            "5000/5000 [==============================] - 79s 16ms/step - loss: 0.3008 - accuracy: 0.8955 - val_loss: 1.2251 - val_accuracy: 0.6905\n",
            "Epoch 24/50\n",
            "5000/5000 [==============================] - 84s 17ms/step - loss: 0.2848 - accuracy: 0.9016 - val_loss: 1.2716 - val_accuracy: 0.6920\n",
            "Epoch 25/50\n",
            "5000/5000 [==============================] - 85s 17ms/step - loss: 0.2646 - accuracy: 0.9085 - val_loss: 1.2877 - val_accuracy: 0.6839\n",
            "Epoch 26/50\n",
            "5000/5000 [==============================] - 85s 17ms/step - loss: 0.2467 - accuracy: 0.9158 - val_loss: 1.2991 - val_accuracy: 0.7002\n",
            "Epoch 27/50\n",
            "5000/5000 [==============================] - 79s 16ms/step - loss: 0.2343 - accuracy: 0.9191 - val_loss: 1.2401 - val_accuracy: 0.6983\n",
            "Epoch 28/50\n",
            "5000/5000 [==============================] - 79s 16ms/step - loss: 0.2213 - accuracy: 0.9246 - val_loss: 1.2969 - val_accuracy: 0.6900\n",
            "Epoch 29/50\n",
            "5000/5000 [==============================] - 79s 16ms/step - loss: 0.2025 - accuracy: 0.9301 - val_loss: 1.3265 - val_accuracy: 0.7016\n",
            "Epoch 30/50\n",
            "5000/5000 [==============================] - 84s 17ms/step - loss: 0.1940 - accuracy: 0.9333 - val_loss: 1.4060 - val_accuracy: 0.6899\n",
            "Epoch 31/50\n",
            "5000/5000 [==============================] - 79s 16ms/step - loss: 0.1793 - accuracy: 0.9378 - val_loss: 1.3520 - val_accuracy: 0.6959\n",
            "Epoch 32/50\n",
            "5000/5000 [==============================] - 79s 16ms/step - loss: 0.1707 - accuracy: 0.9407 - val_loss: 1.4839 - val_accuracy: 0.6937\n",
            "Epoch 33/50\n",
            "5000/5000 [==============================] - 80s 16ms/step - loss: 0.1602 - accuracy: 0.9453 - val_loss: 1.4228 - val_accuracy: 0.7008\n",
            "Epoch 34/50\n",
            "5000/5000 [==============================] - 80s 16ms/step - loss: 0.1528 - accuracy: 0.9461 - val_loss: 1.4344 - val_accuracy: 0.6985\n",
            "Epoch 35/50\n",
            "5000/5000 [==============================] - 80s 16ms/step - loss: 0.1515 - accuracy: 0.9475 - val_loss: 1.4908 - val_accuracy: 0.6913\n",
            "Epoch 36/50\n",
            "5000/5000 [==============================] - 79s 16ms/step - loss: 0.1446 - accuracy: 0.9502 - val_loss: 1.5150 - val_accuracy: 0.6944\n",
            "Epoch 37/50\n",
            "5000/5000 [==============================] - 79s 16ms/step - loss: 0.1366 - accuracy: 0.9534 - val_loss: 1.4883 - val_accuracy: 0.6915\n",
            "Epoch 38/50\n",
            "5000/5000 [==============================] - 84s 17ms/step - loss: 0.1268 - accuracy: 0.9568 - val_loss: 1.5258 - val_accuracy: 0.6977\n",
            "Epoch 39/50\n",
            "5000/5000 [==============================] - 75s 15ms/step - loss: 0.1238 - accuracy: 0.9579 - val_loss: 1.6052 - val_accuracy: 0.6958\n",
            "Epoch 40/50\n",
            "5000/5000 [==============================] - 75s 15ms/step - loss: 0.1197 - accuracy: 0.9591 - val_loss: 1.6181 - val_accuracy: 0.6961\n",
            "Epoch 41/50\n",
            "5000/5000 [==============================] - 80s 16ms/step - loss: 0.1100 - accuracy: 0.9618 - val_loss: 1.5940 - val_accuracy: 0.7077\n",
            "Epoch 42/50\n",
            "5000/5000 [==============================] - 75s 15ms/step - loss: 0.1083 - accuracy: 0.9631 - val_loss: 1.6893 - val_accuracy: 0.6936\n",
            "Epoch 43/50\n",
            "5000/5000 [==============================] - 75s 15ms/step - loss: 0.1013 - accuracy: 0.9653 - val_loss: 1.6280 - val_accuracy: 0.6976\n",
            "Epoch 44/50\n",
            "5000/5000 [==============================] - 75s 15ms/step - loss: 0.0953 - accuracy: 0.9689 - val_loss: 1.7325 - val_accuracy: 0.6892\n",
            "Epoch 45/50\n",
            "5000/5000 [==============================] - 76s 15ms/step - loss: 0.0964 - accuracy: 0.9680 - val_loss: 1.6648 - val_accuracy: 0.6930\n",
            "Epoch 46/50\n",
            "5000/5000 [==============================] - 75s 15ms/step - loss: 0.0856 - accuracy: 0.9707 - val_loss: 1.6859 - val_accuracy: 0.6959\n",
            "Epoch 47/50\n",
            "5000/5000 [==============================] - 75s 15ms/step - loss: 0.0842 - accuracy: 0.9718 - val_loss: 1.8225 - val_accuracy: 0.6838\n",
            "Epoch 48/50\n",
            "5000/5000 [==============================] - 76s 15ms/step - loss: 0.0804 - accuracy: 0.9725 - val_loss: 1.6744 - val_accuracy: 0.7008\n",
            "Epoch 49/50\n",
            "5000/5000 [==============================] - 75s 15ms/step - loss: 0.0779 - accuracy: 0.9731 - val_loss: 1.7229 - val_accuracy: 0.6987\n",
            "Epoch 50/50\n",
            "5000/5000 [==============================] - 75s 15ms/step - loss: 0.0776 - accuracy: 0.9743 - val_loss: 1.7901 - val_accuracy: 0.6935\n"
          ]
        }
      ]
    }
  ]
}